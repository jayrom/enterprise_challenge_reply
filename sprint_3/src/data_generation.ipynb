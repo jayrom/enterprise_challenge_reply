{
  "cells": [
    {
      "cell_type": "markdown",
      "metadata": {
        "id": "view-in-github",
        "colab_type": "text"
      },
      "source": [
        "<a href=\"https://colab.research.google.com/github/jayrom/enterprise_challenge_reply/blob/main/sprint_3/src/data_generation.ipynb\" target=\"_parent\"><img src=\"https://colab.research.google.com/assets/colab-badge.svg\" alt=\"Open In Colab\"/></a>"
      ]
    },
    {
      "cell_type": "markdown",
      "source": [
        "# Simulação de dados de sensores industriais"
      ],
      "metadata": {
        "id": "SAxIwh0ADChU"
      }
    },
    {
      "cell_type": "markdown",
      "source": [
        "### Importar módulos"
      ],
      "metadata": {
        "id": "UkRAKCLYC5Pk"
      }
    },
    {
      "cell_type": "code",
      "source": [
        "import pandas as pd\n",
        "import numpy as np\n",
        "from datetime import datetime, timedelta"
      ],
      "metadata": {
        "id": "M77MMeGOCt2W"
      },
      "execution_count": 1,
      "outputs": []
    },
    {
      "cell_type": "markdown",
      "source": [
        "### Configurações iniciais da simulação"
      ],
      "metadata": {
        "id": "Kf6W-pCkXjbU"
      }
    },
    {
      "cell_type": "code",
      "source": [
        "NUM_DEVICES = 2\n",
        "DAYS_TO_SIMULATE = 60\n",
        "INTERVAL_MINUTES = 10\n",
        "FAILURE_START_DAY = 30"
      ],
      "metadata": {
        "id": "kMM8e1czXxHa"
      },
      "execution_count": 2,
      "outputs": []
    },
    {
      "cell_type": "markdown",
      "source": [
        "### Parâmetros de dados normais (média e desvio padrão para ruído)"
      ],
      "metadata": {
        "id": "1muapVjfX63d"
      }
    },
    {
      "cell_type": "code",
      "source": [
        "NORMAL_TEMP_MEAN = 45.0\n",
        "NORMAL_TEMP_STD = 2.0\n",
        "NORMAL_CURRENT_MEAN = 6.0\n",
        "NORMAL_CURRENT_STD = 0.5\n",
        "NORMAL_VIBRATION_MEAN = 0.25\n",
        "NORMAL_VIBRATION_STD = 0.05"
      ],
      "metadata": {
        "id": "J1R70BC1YQmH"
      },
      "execution_count": 3,
      "outputs": []
    },
    {
      "cell_type": "markdown",
      "source": [
        "### Parâmetros de falha (taxa de aumento por dia)"
      ],
      "metadata": {
        "id": "lo_Q3nbMYW1g"
      }
    },
    {
      "cell_type": "code",
      "source": [
        "FAULT_TEMP_INCREASE = 0.5  # Aumento de 0.5 °C por dia\n",
        "FAULT_VIBRATION_INCREASE = 0.05  # Aumento de 0.05 g por dia"
      ],
      "metadata": {
        "id": "KF2SSGiqYape"
      },
      "execution_count": 4,
      "outputs": []
    },
    {
      "cell_type": "markdown",
      "source": [
        "### Geração dos dados"
      ],
      "metadata": {
        "id": "ScjM6zFRYjMi"
      }
    },
    {
      "cell_type": "code",
      "source": [
        "all_data = []\n",
        "\n",
        "# Loop para cada dispositivo\n",
        "for i in range(1, NUM_DEVICES + 1):\n",
        "    device_id = f'motor_{i}'\n",
        "    start_time = datetime.now() - timedelta(days=DAYS_TO_SIMULATE)\n",
        "\n",
        "    # Loop para cada ponto de dados\n",
        "    for day in range(DAYS_TO_SIMULATE):\n",
        "        for _ in range(0, 24 * 60, INTERVAL_MINUTES):\n",
        "            current_time = start_time + timedelta(days=day, minutes=_)\n",
        "\n",
        "            # Inicializa os dados com valores normais e ruído aleatório\n",
        "            temp = np.random.normal(NORMAL_TEMP_MEAN, NORMAL_TEMP_STD)\n",
        "            current = np.random.normal(NORMAL_CURRENT_MEAN, NORMAL_CURRENT_STD)\n",
        "            vibration = np.random.normal(NORMAL_VIBRATION_MEAN, NORMAL_VIBRATION_STD)\n",
        "\n",
        "            days_to_failure = -1  # -1 para indicar que não há falha\n",
        "            failure_mode = 'Normal'\n",
        "\n",
        "            # Simula a falha progressiva para o motor_001\n",
        "            if device_id == 'motor_1' and day >= FAILURE_START_DAY:\n",
        "                days_since_start_of_failure = day - FAILURE_START_DAY\n",
        "\n",
        "                # Aumenta os valores conforme a falha progride\n",
        "                temp += days_since_start_of_failure * FAULT_TEMP_INCREASE\n",
        "                vibration += days_since_start_of_failure * FAULT_VIBRATION_INCREASE\n",
        "\n",
        "                days_to_failure = DAYS_TO_SIMULATE - day\n",
        "                failure_mode = 'Rolamento_Desgastado'\n",
        "\n",
        "            all_data.append([\n",
        "                current_time,\n",
        "                device_id,\n",
        "                temp,\n",
        "                current,\n",
        "                vibration,\n",
        "                days_to_failure,\n",
        "                failure_mode\n",
        "            ])\n",
        "\n",
        "# Cria o DataFrame e salva no arquivo CSV\n",
        "df = pd.DataFrame(all_data, columns=[\n",
        "    'timestamp',\n",
        "    'device_id',\n",
        "    'temperature_c',\n",
        "    'current_amps',\n",
        "    'vibration_rms_g',\n",
        "    'days_to_failure',\n",
        "    'failure_mode'\n",
        "])\n",
        "\n",
        "output_filename = 'simulated_sensor_data.csv'\n",
        "df.to_csv(output_filename, index=False)\n",
        "\n",
        "print(f\"Dados simulados salvos em '{output_filename}' com {len(df)} registros.\")\n",
        "print(df.head())\n",
        "print(df.tail())"
      ],
      "metadata": {
        "id": "Ysbe5V_0YuxT",
        "outputId": "365479cf-23a7-4858-dc3e-8530d22c8c3b",
        "colab": {
          "base_uri": "https://localhost:8080/"
        }
      },
      "execution_count": 5,
      "outputs": [
        {
          "output_type": "stream",
          "name": "stdout",
          "text": [
            "Dados simulados salvos em 'simulated_sensor_data.csv' com 17280 registros.\n",
            "                   timestamp device_id  temperature_c  current_amps  \\\n",
            "0 2025-06-26 08:42:28.677401   motor_1      46.840214      5.686451   \n",
            "1 2025-06-26 08:52:28.677401   motor_1      45.017830      5.872032   \n",
            "2 2025-06-26 09:02:28.677401   motor_1      45.592530      5.248586   \n",
            "3 2025-06-26 09:12:28.677401   motor_1      43.944047      6.363913   \n",
            "4 2025-06-26 09:22:28.677401   motor_1      45.413694      6.674685   \n",
            "\n",
            "   vibration_rms_g  days_to_failure failure_mode  \n",
            "0         0.214219               -1       Normal  \n",
            "1         0.321321               -1       Normal  \n",
            "2         0.282764               -1       Normal  \n",
            "3         0.218272               -1       Normal  \n",
            "4         0.211564               -1       Normal  \n",
            "                       timestamp device_id  temperature_c  current_amps  \\\n",
            "17275 2025-08-25 07:52:28.728890   motor_2      49.806730      6.223903   \n",
            "17276 2025-08-25 08:02:28.728890   motor_2      47.291467      6.492390   \n",
            "17277 2025-08-25 08:12:28.728890   motor_2      48.713061      5.974255   \n",
            "17278 2025-08-25 08:22:28.728890   motor_2      41.888943      6.631747   \n",
            "17279 2025-08-25 08:32:28.728890   motor_2      44.071483      5.872921   \n",
            "\n",
            "       vibration_rms_g  days_to_failure failure_mode  \n",
            "17275         0.293479               -1       Normal  \n",
            "17276         0.204815               -1       Normal  \n",
            "17277         0.259799               -1       Normal  \n",
            "17278         0.186158               -1       Normal  \n",
            "17279         0.291000               -1       Normal  \n"
          ]
        }
      ]
    }
  ],
  "metadata": {
    "colab": {
      "name": "FIAP - Reply - Enterprise Challenge - SIMP - Sistema Inteligente de Manutenção Preditiva - Sprint 3",
      "provenance": [],
      "include_colab_link": true
    },
    "kernelspec": {
      "display_name": "Python 3",
      "name": "python3"
    }
  },
  "nbformat": 4,
  "nbformat_minor": 0
}