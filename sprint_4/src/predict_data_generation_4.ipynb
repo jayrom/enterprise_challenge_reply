{
  "cells": [
    {
      "cell_type": "markdown",
      "metadata": {
        "id": "view-in-github",
        "colab_type": "text"
      },
      "source": [
        "<a href=\"https://colab.research.google.com/github/jayrom/enterprise_challenge_reply/blob/main/sprint_4/src/predict_data_generation_4.ipynb\" target=\"_parent\"><img src=\"https://colab.research.google.com/assets/colab-badge.svg\" alt=\"Open In Colab\"/></a>"
      ]
    },
    {
      "cell_type": "markdown",
      "source": [
        "# Simulação de dados de sensores industriais\n",
        "*Dataset de manutenção (rotulado)*"
      ],
      "metadata": {
        "id": "SAxIwh0ADChU"
      }
    },
    {
      "cell_type": "code",
      "source": [
        "import pandas as pd\n",
        "import numpy as np\n",
        "import random\n",
        "\n",
        "def gerar_dados_teste(n_registros=500, inicio_falha_percent=0.65, random_seed=123):\n",
        "    \"\"\"\n",
        "    Gera um conjunto de dados de teste simulando uma única linha do tempo de um equipamento\n",
        "    que começa normal e desenvolve um modo de falha escolhido aleatoriamente.\n",
        "\n",
        "    Salva dois arquivos: um com rótulos (gabarito) e outro sem (para predição).\n",
        "    \"\"\"\n",
        "    print(\"Iniciando a geração do conjunto de teste...\")\n",
        "\n",
        "    # Semente aleatória diferente da de treinamento para garantir dados inéditos\n",
        "    np.random.seed(random_seed)\n",
        "\n",
        "    # --- Configurações Iniciais ---\n",
        "    intervalo_minutos = 10\n",
        "    start_time = pd.Timestamp('2025-09-27 08:00:00') # Data de início para o teste\n",
        "    timestamps = pd.to_datetime([start_time + pd.Timedelta(minutes=i*intervalo_minutos) for i in range(n_registros)])\n",
        "\n",
        "    # Escolhe aleatoriamente o motor e o modo de falha para este teste\n",
        "    modos_falha_possiveis = ['desgaste_rolamento', 'desbalanceamento']\n",
        "    modo_falha_simulado = random.choice(modos_falha_possiveis)\n",
        "    device_id = 'motor_teste_C'\n",
        "\n",
        "    print(f\"Simulando uma falha do tipo: '{modo_falha_simulado}' para o device '{device_id}'\")\n",
        "\n",
        "    # --- Geração dos Dados Base (Estado Normal) ---\n",
        "    temperature = np.random.normal(31, 2, n_registros)\n",
        "    current = np.random.normal(1.6, 0.1, n_registros)\n",
        "    # Simulação dos 3 eixos de vibração com gravidade em Z\n",
        "    vib_x = np.random.normal(0, 0.05, n_registros)\n",
        "    vib_y = np.random.normal(0, 0.05, n_registros)\n",
        "    vib_z = np.random.normal(9.8, 0.05, n_registros)\n",
        "\n",
        "    # --- Simulação da Falha Progressiva ---\n",
        "    start_failure_idx = int(n_registros * inicio_falha_percent)\n",
        "    days_to_failure = np.zeros(n_registros) # Inicializa com 0 (ou outro valor p/ normal)\n",
        "    failure_mode = ['normal'] * n_registros\n",
        "\n",
        "    for i in range(start_failure_idx, n_registros):\n",
        "        progress = (i - start_failure_idx) / (n_registros - start_failure_idx)\n",
        "\n",
        "        # Define os rótulos para o período de falha\n",
        "        failure_mode[i] = modo_falha_simulado\n",
        "        days_remaining = (n_registros - 1 - i) * intervalo_minutos / (60 * 24)\n",
        "        days_to_failure[i] = max(0, days_remaining)\n",
        "\n",
        "        # Aplica a anomalia correspondente ao modo de falha\n",
        "        if modo_falha_simulado == 'desgaste_rolamento':\n",
        "            # Padrão senoidal\n",
        "            temperature[i] += 15 * np.sin(progress * np.pi) + np.random.normal(0, 1)\n",
        "            current[i] += 5 * np.sin(progress * np.pi) + np.random.normal(0, 0.5)\n",
        "            vib_x[i] += 1.0 * np.sin(progress * np.pi) + np.random.normal(0, 0.1)\n",
        "            vib_y[i] += 1.2 * np.sin(progress * np.pi) + np.random.normal(0, 0.1)\n",
        "            vib_z[i] += 0.3 * np.sin(progress * np.pi) + np.random.normal(0, 0.05)\n",
        "\n",
        "        elif modo_falha_simulado == 'desbalanceamento':\n",
        "            # Padrão exponencial\n",
        "            if progress > 0.3: # Delay\n",
        "                temperature[i] += 10 * np.sqrt(progress - 0.3) + np.random.normal(0, 1.2)\n",
        "                current[i] += 4 * np.sqrt(progress - 0.3) + np.random.normal(0, 0.6)\n",
        "            vib_x[i] += 0.5 * np.exp(progress * 1.5) + np.random.normal(0, 0.10)\n",
        "            vib_y[i] += 2.5 * np.exp(progress * 1.5) + np.random.normal(0, 0.20)\n",
        "            vib_z[i] += 0.2 * np.exp(progress * 1.5) + np.random.normal(0, 0.08)\n",
        "\n",
        "    # --- Finalização e Criação dos DataFrames ---\n",
        "\n",
        "    # Calcular a magnitude vetorial (a feature final de vibração)\n",
        "    vibration_magnitude = np.sqrt(vib_x**2 + vib_y**2 + vib_z**2)\n",
        "\n",
        "    # DataFrame completo (com gabarito)\n",
        "    df_final_com_rotulos = pd.DataFrame({\n",
        "        'timestamp': timestamps,\n",
        "        'device_id': device_id,\n",
        "        'temperature_c': temperature.round(2),\n",
        "        'current_amps': current.round(2),\n",
        "        'vibration_magnitude_mss': vibration_magnitude.round(2),\n",
        "        'days_to_failure': days_to_failure.round(2),\n",
        "        'failure_mode': failure_mode\n",
        "    })\n",
        "\n",
        "    # DataFrame para predição (sem gabarito)\n",
        "    df_para_predicao = df_final_com_rotulos.drop(columns=['days_to_failure', 'failure_mode'])\n",
        "\n",
        "    # --- Salvando os arquivos ---\n",
        "    path_com_rotulos = 'dados_teste_com_rotulos.csv'\n",
        "    path_para_predicao = 'dados_teste_para_predicao.csv'\n",
        "\n",
        "    df_final_com_rotulos.to_csv(path_com_rotulos, index=False)\n",
        "    df_para_predicao.to_csv(path_para_predicao, index=False)\n",
        "\n",
        "    print(\"\\nConjunto de teste gerado com sucesso!\")\n",
        "    print(f\" -> Arquivo com rótulos (gabarito) salvo como: '{path_com_rotulos}'\")\n",
        "    print(f\" -> Arquivo sem rótulos (para predição) salvo como: '{path_para_predicao}'\")\n",
        "\n",
        "    print(\"\\nAmostra dos dados gerados (com rótulos):\")\n",
        "    print(df_final_com_rotulos.head(3))\n",
        "    print(\"...\")\n",
        "    print(df_final_com_rotulos.tail(3))\n",
        "\n",
        "# Executar a função para gerar os dados\n",
        "if __name__ == '__main__':\n",
        "    gerar_dados_teste()"
      ],
      "metadata": {
        "id": "iQhW5WOHyZnB",
        "outputId": "de23126a-257c-400e-c262-de9dbf418f6f",
        "colab": {
          "base_uri": "https://localhost:8080/"
        },
        "collapsed": true
      },
      "execution_count": 2,
      "outputs": [
        {
          "output_type": "stream",
          "name": "stdout",
          "text": [
            "Iniciando a geração do conjunto de teste...\n",
            "Simulando uma falha do tipo: 'desgaste_rolamento' para o device 'motor_teste_C'\n",
            "\n",
            "Conjunto de teste gerado com sucesso!\n",
            " -> Arquivo com rótulos (gabarito) salvo como: 'dados_teste_com_rotulos.csv'\n",
            " -> Arquivo sem rótulos (para predição) salvo como: 'dados_teste_para_predicao.csv'\n",
            "\n",
            "Amostra dos dados gerados (com rótulos):\n",
            "            timestamp      device_id  temperature_c  current_amps  \\\n",
            "0 2025-09-27 08:00:00  motor_teste_C          28.83          1.68   \n",
            "1 2025-09-27 08:10:00  motor_teste_C          32.99          1.61   \n",
            "2 2025-09-27 08:20:00  motor_teste_C          31.57          1.57   \n",
            "\n",
            "   vibration_magnitude_mss  days_to_failure failure_mode  \n",
            "0                     9.71              0.0       normal  \n",
            "1                     9.74              0.0       normal  \n",
            "2                     9.85              0.0       normal  \n",
            "...\n",
            "              timestamp      device_id  temperature_c  current_amps  \\\n",
            "497 2025-09-30 18:50:00  motor_teste_C          31.62          2.34   \n",
            "498 2025-09-30 19:00:00  motor_teste_C          32.86          1.46   \n",
            "499 2025-09-30 19:10:00  motor_teste_C          30.69          1.88   \n",
            "\n",
            "     vibration_magnitude_mss  days_to_failure        failure_mode  \n",
            "497                     9.74             0.01  desgaste_rolamento  \n",
            "498                     9.85             0.01  desgaste_rolamento  \n",
            "499                     9.87             0.00  desgaste_rolamento  \n"
          ]
        }
      ]
    },
    {
      "cell_type": "markdown",
      "source": [
        "### Importar módulos"
      ],
      "metadata": {
        "id": "UkRAKCLYC5Pk"
      }
    },
    {
      "cell_type": "code",
      "source": [],
      "metadata": {
        "id": "M77MMeGOCt2W"
      },
      "execution_count": null,
      "outputs": []
    },
    {
      "cell_type": "markdown",
      "source": [
        "### Configurações iniciais da simulação"
      ],
      "metadata": {
        "id": "Kf6W-pCkXjbU"
      }
    },
    {
      "cell_type": "code",
      "source": [],
      "metadata": {
        "id": "kMM8e1czXxHa"
      },
      "execution_count": null,
      "outputs": []
    },
    {
      "cell_type": "markdown",
      "source": [
        "### Parâmetros de dados normais (média e desvio padrão para ruído)"
      ],
      "metadata": {
        "id": "1muapVjfX63d"
      }
    },
    {
      "cell_type": "code",
      "source": [],
      "metadata": {
        "id": "J1R70BC1YQmH"
      },
      "execution_count": null,
      "outputs": []
    },
    {
      "cell_type": "markdown",
      "source": [
        "### Parâmetros de falha (taxa de aumento por dia)"
      ],
      "metadata": {
        "id": "lo_Q3nbMYW1g"
      }
    },
    {
      "cell_type": "code",
      "source": [],
      "metadata": {
        "id": "KF2SSGiqYape"
      },
      "execution_count": null,
      "outputs": []
    },
    {
      "cell_type": "markdown",
      "source": [
        "### Geração dos dados"
      ],
      "metadata": {
        "id": "ScjM6zFRYjMi"
      }
    },
    {
      "cell_type": "code",
      "source": [],
      "metadata": {
        "id": "Ysbe5V_0YuxT"
      },
      "execution_count": null,
      "outputs": []
    }
  ],
  "metadata": {
    "colab": {
      "name": "FIAP - Reply - Enterprise Challenge - SIMP - Sistema Inteligente de Manutenção Preditiva - Sprint 4",
      "provenance": [],
      "include_colab_link": true
    },
    "kernelspec": {
      "display_name": "Python 3",
      "name": "python3"
    }
  },
  "nbformat": 4,
  "nbformat_minor": 0
}
