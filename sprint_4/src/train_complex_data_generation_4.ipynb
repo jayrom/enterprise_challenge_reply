{
  "cells": [
    {
      "cell_type": "markdown",
      "metadata": {
        "id": "view-in-github",
        "colab_type": "text"
      },
      "source": [
        "<a href=\"https://colab.research.google.com/github/jayrom/enterprise_challenge_reply/blob/main/sprint_4/src/train_complex_data_generation_4.ipynb\" target=\"_parent\"><img src=\"https://colab.research.google.com/assets/colab-badge.svg\" alt=\"Open In Colab\"/></a>"
      ]
    },
    {
      "cell_type": "markdown",
      "source": [
        "# Simulação de dados de sensores industriais\n",
        "*Dataset de manutenção (rotulado)*"
      ],
      "metadata": {
        "id": "SAxIwh0ADChU"
      }
    },
    {
      "cell_type": "code",
      "source": [
        "import pandas as pd\n",
        "import numpy as np\n",
        "import random\n",
        "from datetime import datetime\n",
        "\n",
        "# ==============================================================================\n",
        "# 1. FUNÇÃO PRINCIPAL PARA GERAR O CICLO DE VIDA DE UM MOTOR\n",
        "# ==============================================================================\n",
        "def gerar_ciclo_de_vida_motor(device_id: str, n_leituras: int, start_time: datetime,\n",
        "                              modo_falha: str = 'nenhuma', inicio_falha_percent: float = 0.7):\n",
        "    \"\"\"\n",
        "    Gera uma série temporal completa para um único motor, desde o início da operação\n",
        "    até o final do período de leituras, simulando um modo de falha específico.\n",
        "\n",
        "    Args:\n",
        "        device_id (str): Identificador único do motor (ex: 'motor_1').\n",
        "        n_leituras (int): Número total de registros a serem gerados para este motor.\n",
        "        start_time (datetime): Timestamp inicial para a primeira leitura.\n",
        "        modo_falha (str): 'nenhuma', 'desgaste_rolamento' ou 'desbalanceamento'.\n",
        "        inicio_falha_percent (float): Ponto no ciclo de vida (0.0 a 1.0) onde a falha começa.\n",
        "\n",
        "    Returns:\n",
        "        pd.DataFrame: DataFrame com a série temporal completa para o motor.\n",
        "    \"\"\"\n",
        "    # --- Configurações Iniciais ---\n",
        "    intervalo_minutos = 10\n",
        "    timestamps = pd.to_datetime([start_time + pd.Timedelta(minutes=i*intervalo_minutos) for i in range(n_leituras)])\n",
        "\n",
        "    # --- Geração dos Dados Base (Estado Normal) ---\n",
        "    temperature = np.random.normal(31, 2, n_leituras)\n",
        "    current = np.random.normal(1.6, 0.1, n_leituras)\n",
        "    vib_x = np.random.normal(0, 0.05, n_leituras)\n",
        "    vib_y = np.random.normal(0, 0.05, n_leituras)\n",
        "    vib_z = np.random.normal(9.8, 0.05, n_leituras) # Inclui gravidade\n",
        "\n",
        "    # --- Simulação da Falha Progressiva (se houver) ---\n",
        "    days_to_failure = np.zeros(n_leituras)\n",
        "    failure_mode_list = ['normal'] * n_leituras\n",
        "\n",
        "    if modo_falha != 'nenhuma':\n",
        "        start_failure_idx = int(n_leituras * inicio_falha_percent)\n",
        "\n",
        "        for i in range(start_failure_idx, n_leituras):\n",
        "            progress = (i - start_failure_idx) / (n_leituras - start_failure_idx)\n",
        "\n",
        "            failure_mode_list[i] = modo_falha\n",
        "            days_remaining = (n_leituras - 1 - i) * intervalo_minutos / (60 * 24)\n",
        "            days_to_failure[i] = max(0, days_remaining)\n",
        "\n",
        "            if modo_falha == 'desgaste_rolamento':\n",
        "                temperature[i] += 15 * np.sin(progress * np.pi) + np.random.normal(0, 1)\n",
        "                current[i] += 5 * np.sin(progress * np.pi) + np.random.normal(0, 0.5)\n",
        "                vib_x[i] += 1.0 * np.sin(progress * np.pi) + np.random.normal(0, 0.1)\n",
        "                vib_y[i] += 1.2 * np.sin(progress * np.pi) + np.random.normal(0, 0.1)\n",
        "                vib_z[i] += 0.3 * np.sin(progress * np.pi) + np.random.normal(0, 0.05)\n",
        "\n",
        "            elif modo_falha == 'desbalanceamento':\n",
        "                if progress > 0.3:\n",
        "                    temperature[i] += 10 * np.sqrt(progress - 0.3) + np.random.normal(0, 1.2)\n",
        "                    current[i] += 4 * np.sqrt(progress - 0.3) + np.random.normal(0, 0.6)\n",
        "                vib_x[i] += 0.5 * np.exp(progress * 1.5) + np.random.normal(0, 0.10)\n",
        "                vib_y[i] += 2.5 * np.exp(progress * 1.5) + np.random.normal(0, 0.20)\n",
        "                vib_z[i] += 0.2 * np.exp(progress * 1.5) + np.random.normal(0, 0.08)\n",
        "\n",
        "    # --- Finalização ---\n",
        "    vibration_magnitude = np.sqrt(vib_x**2 + vib_y**2 + vib_z**2)\n",
        "\n",
        "    df_motor = pd.DataFrame({\n",
        "        'timestamp': timestamps,\n",
        "        'device_id': device_id,\n",
        "        'temperature_c': temperature.round(2),\n",
        "        'current_amps': current.round(2),\n",
        "        'vibration_magnitude_mss': vibration_magnitude.round(2),\n",
        "        'days_to_failure': days_to_failure.round(2),\n",
        "        'failure_mode': failure_mode_list\n",
        "    })\n",
        "\n",
        "    return df_motor\n",
        "\n",
        "# ==============================================================================\n",
        "# 2. CONFIGURAÇÃO E EXECUÇÃO DA SIMULAÇÃO\n",
        "# ==============================================================================\n",
        "if __name__ == '__main__':\n",
        "    # Seed para reprodutibilidade\n",
        "    np.random.seed(42)\n",
        "    random.seed(42)\n",
        "\n",
        "    # --- Painel de Controle da Simulação ---\n",
        "    # Aqui definimos quantos motores de cada tipo queremos criar\n",
        "    CONFIGURACAO_SIMULACAO = [\n",
        "        # --- Sua sugestão: Uma falha de rolamento que começa bem no início ---\n",
        "        {'tipo': 'desgaste_rolamento', 'n_leituras': 400, 'inicio_falha': 0.1, 'device_id': 'motor_A'},\n",
        "\n",
        "        # --- Uma falha de desbalanceamento que começa no meio do ciclo de vida ---\n",
        "        {'tipo': 'desbalanceamento', 'n_leituras': 500, 'inicio_falha': 0.5, 'device_id': 'motor_B'},\n",
        "\n",
        "        # --- Uma falha de rolamento que começa mais para o final ---\n",
        "        {'tipo': 'desgaste_rolamento', 'n_leituras': 600, 'inicio_falha': 0.8, 'device_id': 'motor_C'},\n",
        "\n",
        "        # --- Um motor que desenvolve desbalanceamento, mas a simulação acaba antes da quebra ---\n",
        "        {'tipo': 'desbalanceamento', 'n_leituras': 300, 'inicio_falha': 0.6, 'device_id': 'motor_D'},\n",
        "\n",
        "        # --- Dois motores que operam normalmente durante todo o período ---\n",
        "        {'tipo': 'nenhuma', 'n_leituras': 500, 'inicio_falha': None, 'device_id': 'motor_E'},\n",
        "        {'tipo': 'nenhuma', 'n_leituras': 450, 'inicio_falha': None, 'device_id': 'motor_F'},\n",
        "    ]\n",
        "\n",
        "    print(\"Iniciando a geração do dataset de treinamento robusto...\")\n",
        "\n",
        "    lista_de_dataframes = []\n",
        "    timestamp_atual = pd.Timestamp('2024-01-01 00:00:00')\n",
        "\n",
        "    # Loop principal que \"fabrica\" os motores\n",
        "    for config in CONFIGURACAO_SIMULACAO:\n",
        "        print(f\"  -> Gerando ciclo de vida para o device '{config['device_id']}'...\")\n",
        "\n",
        "        df_motor = gerar_ciclo_de_vida_motor(\n",
        "            device_id=config['device_id'],\n",
        "            n_leituras=config['n_leituras'],\n",
        "            start_time=timestamp_atual,\n",
        "            modo_falha=config['tipo'],\n",
        "            inicio_falha_percent=config['inicio_falha']\n",
        "        )\n",
        "\n",
        "        lista_de_dataframes.append(df_motor)\n",
        "\n",
        "        # Define o tempo de início para o próximo motor, garantindo a continuidade cronológica\n",
        "        timestamp_atual = df_motor.iloc[-1]['timestamp'] + pd.Timedelta(minutes=10)\n",
        "\n",
        "    # Concatena todos os dataframes em um único dataset histórico\n",
        "    df_final = pd.concat(lista_de_dataframes, ignore_index=True)\n",
        "\n",
        "    # Salva o arquivo\n",
        "    nome_arquivo = 'training_dataset_robusto.csv'\n",
        "    df_final.to_csv(nome_arquivo, index=False)\n",
        "\n",
        "    print(\"\\n----------------------------------------------------\")\n",
        "    print(\"Dataset de treinamento robusto gerado com sucesso!\")\n",
        "    print(f\"Arquivo salvo como: '{nome_arquivo}'\")\n",
        "    print(f\"Total de registros gerados: {len(df_final)}\")\n",
        "    print(\"\\nDistribuição dos modos de falha no dataset final:\")\n",
        "    print(df_final['failure_mode'].value_counts(normalize=True).round(2))\n",
        "    print(\"\\nResumo do dataset:\")\n",
        "    print(df_final.head(3))\n",
        "    print(\"...\")\n",
        "    print(df_final.tail(3))"
      ],
      "metadata": {
        "id": "iQhW5WOHyZnB",
        "outputId": "3dee567d-d2ee-4c5e-9426-bf294bfa79e0",
        "colab": {
          "base_uri": "https://localhost:8080/"
        },
        "collapsed": true
      },
      "execution_count": 1,
      "outputs": [
        {
          "output_type": "stream",
          "name": "stdout",
          "text": [
            "Iniciando a geração do dataset de treinamento robusto...\n",
            "  -> Gerando ciclo de vida para o device 'motor_A'...\n",
            "  -> Gerando ciclo de vida para o device 'motor_B'...\n",
            "  -> Gerando ciclo de vida para o device 'motor_C'...\n",
            "  -> Gerando ciclo de vida para o device 'motor_D'...\n",
            "  -> Gerando ciclo de vida para o device 'motor_E'...\n",
            "  -> Gerando ciclo de vida para o device 'motor_F'...\n",
            "\n",
            "----------------------------------------------------\n",
            "Dataset de treinamento robusto gerado com sucesso!\n",
            "Arquivo salvo como: 'training_dataset_robusto.csv'\n",
            "Total de registros gerados: 2750\n",
            "\n",
            "Distribuição dos modos de falha no dataset final:\n",
            "failure_mode\n",
            "normal                0.69\n",
            "desgaste_rolamento    0.17\n",
            "desbalanceamento      0.13\n",
            "Name: proportion, dtype: float64\n",
            "\n",
            "Resumo do dataset:\n",
            "            timestamp device_id  temperature_c  current_amps  \\\n",
            "0 2024-01-01 00:00:00   motor_A          31.99          1.44   \n",
            "1 2024-01-01 00:10:00   motor_A          30.72          1.54   \n",
            "2 2024-01-01 00:20:00   motor_A          32.30          1.60   \n",
            "\n",
            "   vibration_magnitude_mss  days_to_failure failure_mode  \n",
            "0                     9.79              0.0       normal  \n",
            "1                     9.87              0.0       normal  \n",
            "2                     9.77              0.0       normal  \n",
            "...\n",
            "               timestamp device_id  temperature_c  current_amps  \\\n",
            "2747 2024-01-20 01:50:00   motor_F          28.86          1.71   \n",
            "2748 2024-01-20 02:00:00   motor_F          31.58          1.45   \n",
            "2749 2024-01-20 02:10:00   motor_F          36.50          1.69   \n",
            "\n",
            "      vibration_magnitude_mss  days_to_failure failure_mode  \n",
            "2747                     9.80              0.0       normal  \n",
            "2748                     9.72              0.0       normal  \n",
            "2749                     9.80              0.0       normal  \n"
          ]
        }
      ]
    },
    {
      "cell_type": "markdown",
      "source": [
        "### Importar módulos"
      ],
      "metadata": {
        "id": "UkRAKCLYC5Pk"
      }
    },
    {
      "cell_type": "code",
      "source": [],
      "metadata": {
        "id": "M77MMeGOCt2W"
      },
      "execution_count": null,
      "outputs": []
    },
    {
      "cell_type": "markdown",
      "source": [
        "### Configurações iniciais da simulação"
      ],
      "metadata": {
        "id": "Kf6W-pCkXjbU"
      }
    },
    {
      "cell_type": "code",
      "source": [],
      "metadata": {
        "id": "kMM8e1czXxHa"
      },
      "execution_count": null,
      "outputs": []
    },
    {
      "cell_type": "markdown",
      "source": [
        "### Parâmetros de dados normais (média e desvio padrão para ruído)"
      ],
      "metadata": {
        "id": "1muapVjfX63d"
      }
    },
    {
      "cell_type": "code",
      "source": [],
      "metadata": {
        "id": "J1R70BC1YQmH"
      },
      "execution_count": null,
      "outputs": []
    },
    {
      "cell_type": "markdown",
      "source": [
        "### Parâmetros de falha (taxa de aumento por dia)"
      ],
      "metadata": {
        "id": "lo_Q3nbMYW1g"
      }
    },
    {
      "cell_type": "code",
      "source": [],
      "metadata": {
        "id": "KF2SSGiqYape"
      },
      "execution_count": null,
      "outputs": []
    },
    {
      "cell_type": "markdown",
      "source": [
        "### Geração dos dados"
      ],
      "metadata": {
        "id": "ScjM6zFRYjMi"
      }
    },
    {
      "cell_type": "code",
      "source": [],
      "metadata": {
        "id": "Ysbe5V_0YuxT"
      },
      "execution_count": null,
      "outputs": []
    }
  ],
  "metadata": {
    "colab": {
      "name": "FIAP - Reply - Enterprise Challenge - SIMP - Sistema Inteligente de Manutenção Preditiva - Sprint 4",
      "provenance": [],
      "include_colab_link": true
    },
    "kernelspec": {
      "display_name": "Python 3",
      "name": "python3"
    }
  },
  "nbformat": 4,
  "nbformat_minor": 0
}
