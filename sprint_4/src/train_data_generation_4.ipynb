{
  "cells": [
    {
      "cell_type": "markdown",
      "metadata": {
        "id": "view-in-github",
        "colab_type": "text"
      },
      "source": [
        "<a href=\"https://colab.research.google.com/github/jayrom/fiap_exercises_gen/blob/main/reply_test/train_data_generation_4.ipynb\" target=\"_parent\"><img src=\"https://colab.research.google.com/assets/colab-badge.svg\" alt=\"Open In Colab\"/></a>"
      ]
    },
    {
      "cell_type": "markdown",
      "source": [
        "# Simulação de dados de sensores industriais\n",
        "*Dataset de manutenção (rotulado)*"
      ],
      "metadata": {
        "id": "SAxIwh0ADChU"
      }
    },
    {
      "cell_type": "code",
      "source": [
        "import pandas as pd\n",
        "import numpy as np\n",
        "\n",
        "# Seed para reprodutibilidade\n",
        "np.random.seed(42)\n",
        "\n",
        "# --- Configurações Iniciais (mantidas do seu script) ---\n",
        "n_leituras_total = 500\n",
        "intervalo_minutos = 10\n",
        "start_time = pd.Timestamp('2025-01-01 00:00:00') # Atualizei o ano para o corrente\n",
        "timestamps = pd.to_datetime([start_time + pd.Timedelta(minutes=i*intervalo_minutos) for i in range(n_leituras_total)])\n",
        "\n",
        "# ==============================================================================\n",
        "# Motor A: Falha tipo rolamento/desgaste\n",
        "# ==============================================================================\n",
        "device_id_A = ['motor_A'] * n_leituras_total\n",
        "\n",
        "# Dados normais para motor A (temperatura e corrente)\n",
        "temp_A = np.random.normal(30, 2, n_leituras_total)\n",
        "current_A = np.random.normal(1.5, 0.1, n_leituras_total)\n",
        "\n",
        "# --- ALTERAÇÃO: Simulação de vibração em 3 eixos para Motor A ---\n",
        "# Em estado normal, a vibração é baixa em todos os eixos.\n",
        "# Adicionamos a aceleração da gravidade (aprox. 9.8 m/s^2) ao eixo Z para maior realismo.\n",
        "vib_x_A = np.random.normal(0, 0.05, n_leituras_total)\n",
        "vib_y_A = np.random.normal(0, 0.05, n_leituras_total)\n",
        "vib_z_A = np.random.normal(9.8, 0.05, n_leituras_total)\n",
        "\n",
        "# Simular falha progressiva para motor A\n",
        "start_failure_A_idx = int(n_leituras_total * 0.7)\n",
        "days_to_failure_A = np.ones(n_leituras_total) * -1\n",
        "\n",
        "for i in range(start_failure_A_idx, n_leituras_total):\n",
        "    progress = (i - start_failure_A_idx) / (n_leituras_total - start_failure_A_idx)\n",
        "\n",
        "    # Aumento não linear para temperatura e corrente (lógica mantida)\n",
        "    temp_A[i] += 15 * np.sin(progress * np.pi) + np.random.normal(0, 1)\n",
        "    current_A[i] += 5 * np.sin(progress * np.pi) + np.random.normal(0, 0.5)\n",
        "\n",
        "    # --- ALTERAÇÃO: Falha de rolamento afetando mais os eixos radiais (X e Y) ---\n",
        "    # O padrão senoidal que você criou é aplicado aqui\n",
        "    vib_x_A[i] += 1.0 * np.sin(progress * np.pi) + np.random.normal(0, 0.1)\n",
        "    vib_y_A[i] += 1.2 * np.sin(progress * np.pi) + np.random.normal(0, 0.1) # Um pouco mais forte em Y\n",
        "    vib_z_A[i] += 0.3 * np.sin(progress * np.pi) + np.random.normal(0, 0.05) # Menor impacto no eixo Z\n",
        "\n",
        "    days_remaining = (n_leituras_total - 1 - i) * intervalo_minutos / (60 * 24)\n",
        "    days_to_failure_A[i] = max(0, days_remaining)\n",
        "\n",
        "# --- NOVO: Calcular a magnitude vetorial a partir dos 3 eixos ---\n",
        "vibration_magnitude_A = np.sqrt(vib_x_A**2 + vib_y_A**2 + vib_z_A**2)\n",
        "\n",
        "failure_mode_A = np.where(days_to_failure_A != -1, 'desgaste_rolamento', 'normal')\n",
        "\n",
        "# ==============================================================================\n",
        "# Motor B: Falha desbalanceamento/acoplamento\n",
        "# ==============================================================================\n",
        "device_id_B = ['motor_B'] * n_leituras_total\n",
        "\n",
        "# Dados normais para motor B (temperatura e corrente)\n",
        "temp_B = np.random.normal(32, 1.8, n_leituras_total)\n",
        "current_B = np.random.normal(1.7, 0.15, n_leituras_total)\n",
        "\n",
        "# --- ALTERAÇÃO: Simulação de vibração em 3 eixos para Motor B ---\n",
        "vib_x_B = np.random.normal(0, 0.06, n_leituras_total)\n",
        "vib_y_B = np.random.normal(0, 0.06, n_leituras_total)\n",
        "vib_z_B = np.random.normal(9.8, 0.06, n_leituras_total)\n",
        "\n",
        "# Simular falha progressiva para motor B\n",
        "start_failure_B_idx = int(n_leituras_total * 0.6)\n",
        "days_to_failure_B = np.ones(n_leituras_total) * -1\n",
        "\n",
        "for i in range(start_failure_B_idx, n_leituras_total):\n",
        "    progress = (i - start_failure_B_idx) / (n_leituras_total - start_failure_B_idx)\n",
        "\n",
        "    # Temperatura e corrente sobem com delay (lógica mantida)\n",
        "    if progress > 0.3:\n",
        "        temp_B[i] += 10 * np.sqrt(progress - 0.3) + np.random.normal(0, 1.2)\n",
        "        current_B[i] += 4 * np.sqrt(progress - 0.3) + np.random.normal(0, 0.6)\n",
        "\n",
        "    # --- ALTERAÇÃO: Desbalanceamento criando uma vibração forte e direcional (principalmente no eixo Y) ---\n",
        "    # O padrão exponencial que você criou é aplicado aqui\n",
        "    vib_x_B[i] += 0.5 * np.exp(progress * 1.5) + np.random.normal(0, 0.10)\n",
        "    vib_y_B[i] += 2.5 * np.exp(progress * 1.5) + np.random.normal(0, 0.20) # Aumento exponencial muito mais forte em Y\n",
        "    vib_z_B[i] += 0.2 * np.exp(progress * 1.5) + np.random.normal(0, 0.08)\n",
        "\n",
        "    days_remaining = (n_leituras_total - 1 - i) * intervalo_minutos / (60 * 24)\n",
        "    days_to_failure_B[i] = max(0, days_remaining)\n",
        "\n",
        "# --- NOVO: Calcular a magnitude vetorial a partir dos 3 eixos ---\n",
        "vibration_magnitude_B = np.sqrt(vib_x_B**2 + vib_y_B**2 + vib_z_B**2)\n",
        "\n",
        "failure_mode_B = np.where(days_to_failure_B != -1, 'desbalanceamento', 'normal')\n",
        "\n",
        "# ==============================================================================\n",
        "# --- Criação e Consolidação dos DataFrames ---\n",
        "# ==============================================================================\n",
        "\n",
        "# Criar DataFrames para cada motor usando a nova coluna de magnitude de vibração\n",
        "df_motor_A = pd.DataFrame({\n",
        "    'timestamp': timestamps,\n",
        "    'device_id': device_id_A,\n",
        "    'temperature_c': temp_A,\n",
        "    'current_amps': current_A,\n",
        "    'vibration_magnitude_mss': vibration_magnitude_A, # <--- COLUNA ATUALIZADA\n",
        "    'days_to_failure': days_to_failure_A,\n",
        "    'failure_mode': failure_mode_A\n",
        "})\n",
        "\n",
        "df_motor_B = pd.DataFrame({\n",
        "    'timestamp': timestamps,\n",
        "    'device_id': device_id_B,\n",
        "    'temperature_c': temp_B,\n",
        "    'current_amps': current_B,\n",
        "    'vibration_magnitude_mss': vibration_magnitude_B, # <--- COLUNA ATUALIZADA\n",
        "    'days_to_failure': days_to_failure_B,\n",
        "    'failure_mode': failure_mode_B\n",
        "})\n",
        "\n",
        "# Concatenar os DataFrames\n",
        "df_simulated = pd.concat([df_motor_A, df_motor_B]).reset_index(drop=True)\n",
        "\n",
        "# Arredondar para 2 casas decimais e garantir valores positivos\n",
        "df_simulated['temperature_c'] = df_simulated['temperature_c'].round(2)\n",
        "df_simulated['current_amps'] = df_simulated['current_amps'].round(2)\n",
        "df_simulated['vibration_magnitude_mss'] = df_simulated['vibration_magnitude_mss'].round(2) # <--- COLUNA ATUALIZADA\n",
        "df_simulated['days_to_failure'] = df_simulated['days_to_failure'].round(2)\n",
        "\n",
        "print(\"Novo dataset simulado e corrigido gerado com sucesso!\")\n",
        "print(\"\\n--- Início do Dataset (Motor A) ---\")\n",
        "print(df_simulated.head())\n",
        "print(\"\\n--- Final do Dataset (Motor B) ---\")\n",
        "print(df_simulated.tail())\n",
        "print(f\"\\nTotal de registros: {len(df_simulated)}\")\n",
        "\n",
        "# Salvar para uso posterior\n",
        "df_simulated.to_csv('simulated_sensor_data_corrected_vibration.csv', index=False)\n",
        "print(\"\\nDataset salvo como 'simulated_sensor_data_corrected_vibration.csv'\")"
      ],
      "metadata": {
        "id": "iQhW5WOHyZnB",
        "outputId": "6244675a-64ad-455b-eda6-83f646b1023e",
        "colab": {
          "base_uri": "https://localhost:8080/"
        },
        "collapsed": true
      },
      "execution_count": 2,
      "outputs": [
        {
          "output_type": "stream",
          "name": "stdout",
          "text": [
            "Novo dataset simulado e corrigido gerado com sucesso!\n",
            "\n",
            "--- Início do Dataset (Motor A) ---\n",
            "            timestamp device_id  temperature_c  current_amps  \\\n",
            "0 2025-01-01 00:00:00   motor_A          30.99          1.59   \n",
            "1 2025-01-01 00:10:00   motor_A          29.72          1.69   \n",
            "2 2025-01-01 00:20:00   motor_A          31.30          1.36   \n",
            "3 2025-01-01 00:30:00   motor_A          33.05          1.56   \n",
            "4 2025-01-01 00:40:00   motor_A          29.53          1.43   \n",
            "\n",
            "   vibration_magnitude_mss  days_to_failure failure_mode  \n",
            "0                     9.77             -1.0       normal  \n",
            "1                     9.79             -1.0       normal  \n",
            "2                     9.76             -1.0       normal  \n",
            "3                     9.78             -1.0       normal  \n",
            "4                     9.71             -1.0       normal  \n",
            "\n",
            "--- Final do Dataset (Motor B) ---\n",
            "              timestamp device_id  temperature_c  current_amps  \\\n",
            "995 2025-01-04 10:30:00   motor_B          40.40          4.72   \n",
            "996 2025-01-04 10:40:00   motor_B          35.38          5.15   \n",
            "997 2025-01-04 10:50:00   motor_B          43.23          5.80   \n",
            "998 2025-01-04 11:00:00   motor_B          41.15          4.96   \n",
            "999 2025-01-04 11:10:00   motor_B          37.64          4.63   \n",
            "\n",
            "     vibration_magnitude_mss  days_to_failure      failure_mode  \n",
            "995                    15.21             0.03  desbalanceamento  \n",
            "996                    15.43             0.02  desbalanceamento  \n",
            "997                    15.67             0.01  desbalanceamento  \n",
            "998                    15.56             0.01  desbalanceamento  \n",
            "999                    15.67             0.00  desbalanceamento  \n",
            "\n",
            "Total de registros: 1000\n",
            "\n",
            "Dataset salvo como 'simulated_sensor_data_corrected_vibration.csv'\n"
          ]
        }
      ]
    },
    {
      "cell_type": "markdown",
      "source": [
        "### Importar módulos"
      ],
      "metadata": {
        "id": "UkRAKCLYC5Pk"
      }
    },
    {
      "cell_type": "code",
      "source": [],
      "metadata": {
        "id": "M77MMeGOCt2W"
      },
      "execution_count": null,
      "outputs": []
    },
    {
      "cell_type": "markdown",
      "source": [
        "### Configurações iniciais da simulação"
      ],
      "metadata": {
        "id": "Kf6W-pCkXjbU"
      }
    },
    {
      "cell_type": "code",
      "source": [],
      "metadata": {
        "id": "kMM8e1czXxHa"
      },
      "execution_count": null,
      "outputs": []
    },
    {
      "cell_type": "markdown",
      "source": [
        "### Parâmetros de dados normais (média e desvio padrão para ruído)"
      ],
      "metadata": {
        "id": "1muapVjfX63d"
      }
    },
    {
      "cell_type": "code",
      "source": [],
      "metadata": {
        "id": "J1R70BC1YQmH"
      },
      "execution_count": null,
      "outputs": []
    },
    {
      "cell_type": "markdown",
      "source": [
        "### Parâmetros de falha (taxa de aumento por dia)"
      ],
      "metadata": {
        "id": "lo_Q3nbMYW1g"
      }
    },
    {
      "cell_type": "code",
      "source": [],
      "metadata": {
        "id": "KF2SSGiqYape"
      },
      "execution_count": null,
      "outputs": []
    },
    {
      "cell_type": "markdown",
      "source": [
        "### Geração dos dados"
      ],
      "metadata": {
        "id": "ScjM6zFRYjMi"
      }
    },
    {
      "cell_type": "code",
      "source": [],
      "metadata": {
        "id": "Ysbe5V_0YuxT"
      },
      "execution_count": null,
      "outputs": []
    }
  ],
  "metadata": {
    "colab": {
      "name": "FIAP - Reply - Enterprise Challenge - SIMP - Sistema Inteligente de Manutenção Preditiva - Sprint 4",
      "provenance": [],
      "include_colab_link": true
    },
    "kernelspec": {
      "display_name": "Python 3",
      "name": "python3"
    }
  },
  "nbformat": 4,
  "nbformat_minor": 0
}